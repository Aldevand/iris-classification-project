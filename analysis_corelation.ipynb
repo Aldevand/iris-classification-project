{
 "cells": [
  {
   "cell_type": "code",
   "execution_count": null,
   "id": "bad5c59f",
   "metadata": {},
   "outputs": [
    {
     "name": "stdout",
     "output_type": "stream",
     "text": [
      "<class 'pandas.core.frame.DataFrame'>\n",
      "RangeIndex: 1 entries, 0 to 0\n",
      "Data columns (total 5 columns):\n",
      " #   Column        Non-Null Count  Dtype \n",
      "---  ------        --------------  ----- \n",
      " 0   Wilayah       1 non-null      object\n",
      " 1   HIV_Kasus     1 non-null      int64 \n",
      " 2   AIDS_Kasus    1 non-null      int64 \n",
      " 3   Jumlah_Total  1 non-null      int64 \n",
      " 4   Mati          1 non-null      int64 \n",
      "dtypes: int64(4), object(1)\n",
      "memory usage: 172.0+ bytes\n",
      "None\n"
     ]
    }
   ],
   "source": [
    "import pandas as pd\n",
    "\n",
    "# Nama file CSV-mu\n",
    "file_path = 'Jumlah Kasus HIV_ AIDS di Kota Jayapura, 2023.csv'\n",
    "\n",
    "# Mengimpor data dengan melewatkan 4 baris pertama\n",
    "# Gunakan `header=None` agar Pandas tidak menjadikan baris pertama sebagai header\n",
    "df = pd.read_csv(file_path, skiprows=4, header=None)\n",
    "\n",
    "# Menampilkan 5 baris pertama dari data yang sudah diimpor\n",
    "print(\"Tampilan DataFrame setelah diimpor:\")\n",
    "print(df)"
   ]
  }
 ],
 "metadata": {
  "kernelspec": {
   "display_name": "data_env",
   "language": "python",
   "name": "python3"
  },
  "language_info": {
   "codemirror_mode": {
    "name": "ipython",
    "version": 3
   },
   "file_extension": ".py",
   "mimetype": "text/x-python",
   "name": "python",
   "nbconvert_exporter": "python",
   "pygments_lexer": "ipython3",
   "version": "3.11.13"
  }
 },
 "nbformat": 4,
 "nbformat_minor": 5
}

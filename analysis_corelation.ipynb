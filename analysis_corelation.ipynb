{
 "cells": [
  {
   "cell_type": "code",
   "execution_count": null,
   "id": "bad5c59f",
   "metadata": {},
   "outputs": [
    {
     "name": "stdout",
     "output_type": "stream",
     "text": [
      "Tampilan DataFrame setelah diimpor:\n",
      "                0      1      2      3     4\n",
      "0   Kota Jayapura   3206   4747   7953   375\n",
      "1  Provinsi Papua  21947  30846  52793  3735\n"
     ]
    }
   ],
   "source": [
    "import pandas as pd\n",
    "file_path = 'Jumlah Kasus HIV_ AIDS di Kota Jayapura, 2023.csv'\n",
    "\n",
    "# Mengimpor data dengan melewatkan 4 baris pertama yang rusak\n",
    "# Gunakan `header=None` agar Pandas tidak menjadikan baris pertama sebagai header\n",
    "df = pd.read_csv(file_path, skiprows=4, header=None)\n",
    "print(\"Tampilan DataFrame setelah diimpor:\")\n",
    "print(df)"
   ]
  }
 ],
 "metadata": {
  "kernelspec": {
   "display_name": "data_env",
   "language": "python",
   "name": "python3"
  },
  "language_info": {
   "codemirror_mode": {
    "name": "ipython",
    "version": 3
   },
   "file_extension": ".py",
   "mimetype": "text/x-python",
   "name": "python",
   "nbconvert_exporter": "python",
   "pygments_lexer": "ipython3",
   "version": "3.11.13"
  }
 },
 "nbformat": 4,
 "nbformat_minor": 5
}

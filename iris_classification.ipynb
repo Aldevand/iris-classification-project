{
 "cells": [
  {
   "cell_type": "code",
   "execution_count": null,
   "id": "541f1390",
   "metadata": {},
   "outputs": [],
   "source": [
    "import pandas as pd\n",
    "from sklearn.datasets import load_iris\n",
    "\n",
    "# Memuat dataset\n",
    "iris = load_iris(as_frame=True)\n",
    "\n",
    "# Membuat DataFrame\n",
    "df = iris.frame\n",
    "\n",
    "# Menampilkan 5 baris pertama\n",
    "print(df.head())"
   ]
  }
 ],
 "metadata": {
  "kernelspec": {
   "display_name": "data_env",
   "language": "python",
   "name": "python3"
  },
  "language_info": {
   "name": "python",
   "version": "3.11.13"
  }
 },
 "nbformat": 4,
 "nbformat_minor": 5
}
